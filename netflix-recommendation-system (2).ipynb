{
 "cells": [
  {
   "cell_type": "markdown",
   "metadata": {},
   "source": [
    "## Importing Libraries"
   ]
  },
  {
   "cell_type": "code",
   "execution_count": 1,
   "metadata": {
    "execution": {
     "iopub.execute_input": "2025-07-17T22:45:32.983342Z",
     "iopub.status.busy": "2025-07-17T22:45:32.982811Z",
     "iopub.status.idle": "2025-07-17T22:45:34.073052Z",
     "shell.execute_reply": "2025-07-17T22:45:34.071828Z",
     "shell.execute_reply.started": "2025-07-17T22:45:32.983230Z"
    },
    "trusted": true
   },
   "outputs": [],
   "source": [
    "import numpy as np  #NumPy is a general-purpose array-processing package. It provides a high-performance multidimensional array object, and tools for working with these arrays.\n",
    "import pandas as pd  #pandas is a popular Python-based data analysis toolkit. It presents a diverse range of utilities, ranging from parsing multiple file formats to converting an entire data table into a NumPy matrix array.\n",
    "import matplotlib.pyplot as plt  #matplotlib.pyplot is a collection of command style functions that make matplotlib work like MATLAB. Each pyplot function makes some change to a figure: e.g., creates a figure, creates a plotting area in a figure, plots some lines in a plotting area, decorates the plot with labels, etc.\n",
    "import seaborn as sns  #Seaborn is a library in Python predominantly used for making statistical graphics. Seaborn is a data visualization library built on top of matplotlib and closely integrated with pandas data structures in Python. Visualization is the central part of Seaborn which helps in exploration and understanding of data.\n",
    "import warnings\n",
    "warnings.filterwarnings(\"ignore\")"
   ]
  },
  {
   "cell_type": "markdown",
   "metadata": {},
   "source": [
    "## Loading the Dataset"
   ]
  },
  {
   "cell_type": "code",
   "execution_count": 2,
   "metadata": {
    "execution": {
     "iopub.execute_input": "2025-07-17T22:45:34.075640Z",
     "iopub.status.busy": "2025-07-17T22:45:34.075373Z",
     "iopub.status.idle": "2025-07-17T22:45:34.720483Z",
     "shell.execute_reply": "2025-07-17T22:45:34.719496Z",
     "shell.execute_reply.started": "2025-07-17T22:45:34.075610Z"
    },
    "trusted": true
   },
   "outputs": [
    {
     "data": {
      "text/html": [
       "<div>\n",
       "<style scoped>\n",
       "    .dataframe tbody tr th:only-of-type {\n",
       "        vertical-align: middle;\n",
       "    }\n",
       "\n",
       "    .dataframe tbody tr th {\n",
       "        vertical-align: top;\n",
       "    }\n",
       "\n",
       "    .dataframe thead th {\n",
       "        text-align: right;\n",
       "    }\n",
       "</style>\n",
       "<table border=\"1\" class=\"dataframe\">\n",
       "  <thead>\n",
       "    <tr style=\"text-align: right;\">\n",
       "      <th></th>\n",
       "      <th>show_id</th>\n",
       "      <th>type</th>\n",
       "      <th>title</th>\n",
       "      <th>director</th>\n",
       "      <th>cast</th>\n",
       "      <th>country</th>\n",
       "      <th>date_added</th>\n",
       "      <th>release_year</th>\n",
       "      <th>rating</th>\n",
       "      <th>duration</th>\n",
       "      <th>genres</th>\n",
       "      <th>language</th>\n",
       "      <th>description</th>\n",
       "      <th>popularity</th>\n",
       "      <th>vote_count</th>\n",
       "      <th>vote_average</th>\n",
       "      <th>budget</th>\n",
       "      <th>revenue</th>\n",
       "    </tr>\n",
       "  </thead>\n",
       "  <tbody>\n",
       "    <tr>\n",
       "      <th>0</th>\n",
       "      <td>10192</td>\n",
       "      <td>Movie</td>\n",
       "      <td>Shrek Forever After</td>\n",
       "      <td>Mike Mitchell</td>\n",
       "      <td>Mike Myers, Eddie Murphy, Cameron Diaz, Antoni...</td>\n",
       "      <td>United States of America</td>\n",
       "      <td>2010-05-16</td>\n",
       "      <td>2010</td>\n",
       "      <td>6.380</td>\n",
       "      <td>NaN</td>\n",
       "      <td>Comedy, Adventure, Fantasy, Animation, Family</td>\n",
       "      <td>en</td>\n",
       "      <td>A bored and domesticated Shrek pacts with deal...</td>\n",
       "      <td>203.893</td>\n",
       "      <td>7449</td>\n",
       "      <td>6.380</td>\n",
       "      <td>165000000.0</td>\n",
       "      <td>752600867.0</td>\n",
       "    </tr>\n",
       "    <tr>\n",
       "      <th>1</th>\n",
       "      <td>27205</td>\n",
       "      <td>Movie</td>\n",
       "      <td>Inception</td>\n",
       "      <td>Christopher Nolan</td>\n",
       "      <td>Leonardo DiCaprio, Joseph Gordon-Levitt, Ken W...</td>\n",
       "      <td>United Kingdom, United States of America</td>\n",
       "      <td>2010-07-15</td>\n",
       "      <td>2010</td>\n",
       "      <td>8.369</td>\n",
       "      <td>NaN</td>\n",
       "      <td>Action, Science Fiction, Adventure</td>\n",
       "      <td>en</td>\n",
       "      <td>Cobb, a skilled thief who commits corporate es...</td>\n",
       "      <td>156.242</td>\n",
       "      <td>37119</td>\n",
       "      <td>8.369</td>\n",
       "      <td>160000000.0</td>\n",
       "      <td>839030630.0</td>\n",
       "    </tr>\n",
       "    <tr>\n",
       "      <th>2</th>\n",
       "      <td>12444</td>\n",
       "      <td>Movie</td>\n",
       "      <td>Harry Potter and the Deathly Hallows: Part 1</td>\n",
       "      <td>David Yates</td>\n",
       "      <td>Daniel Radcliffe, Emma Watson, Rupert Grint, T...</td>\n",
       "      <td>United Kingdom, United States of America</td>\n",
       "      <td>2010-11-17</td>\n",
       "      <td>2010</td>\n",
       "      <td>7.744</td>\n",
       "      <td>NaN</td>\n",
       "      <td>Adventure, Fantasy</td>\n",
       "      <td>en</td>\n",
       "      <td>Harry, Ron and Hermione walk away from their l...</td>\n",
       "      <td>121.191</td>\n",
       "      <td>19327</td>\n",
       "      <td>7.744</td>\n",
       "      <td>250000000.0</td>\n",
       "      <td>954305868.0</td>\n",
       "    </tr>\n",
       "    <tr>\n",
       "      <th>3</th>\n",
       "      <td>38757</td>\n",
       "      <td>Movie</td>\n",
       "      <td>Tangled</td>\n",
       "      <td>Byron Howard, Nathan Greno</td>\n",
       "      <td>Mandy Moore, Zachary Levi, Donna Murphy, Ron P...</td>\n",
       "      <td>United States of America</td>\n",
       "      <td>2010-11-24</td>\n",
       "      <td>2010</td>\n",
       "      <td>7.600</td>\n",
       "      <td>NaN</td>\n",
       "      <td>Animation, Family, Adventure</td>\n",
       "      <td>en</td>\n",
       "      <td>Feisty teenager Rapunzel, who has long and mag...</td>\n",
       "      <td>111.762</td>\n",
       "      <td>11638</td>\n",
       "      <td>7.600</td>\n",
       "      <td>260000000.0</td>\n",
       "      <td>592461732.0</td>\n",
       "    </tr>\n",
       "    <tr>\n",
       "      <th>4</th>\n",
       "      <td>10191</td>\n",
       "      <td>Movie</td>\n",
       "      <td>How to Train Your Dragon</td>\n",
       "      <td>Chris Sanders, Dean DeBlois</td>\n",
       "      <td>Jay Baruchel, Gerard Butler, Craig Ferguson, A...</td>\n",
       "      <td>United States of America</td>\n",
       "      <td>2010-03-18</td>\n",
       "      <td>2010</td>\n",
       "      <td>7.800</td>\n",
       "      <td>NaN</td>\n",
       "      <td>Fantasy, Adventure, Animation, Family</td>\n",
       "      <td>en</td>\n",
       "      <td>As the son of a Viking leader on the cusp of m...</td>\n",
       "      <td>110.044</td>\n",
       "      <td>13259</td>\n",
       "      <td>7.800</td>\n",
       "      <td>165000000.0</td>\n",
       "      <td>494879471.0</td>\n",
       "    </tr>\n",
       "  </tbody>\n",
       "</table>\n",
       "</div>"
      ],
      "text/plain": [
       "   show_id   type                                         title  \\\n",
       "0    10192  Movie                           Shrek Forever After   \n",
       "1    27205  Movie                                     Inception   \n",
       "2    12444  Movie  Harry Potter and the Deathly Hallows: Part 1   \n",
       "3    38757  Movie                                       Tangled   \n",
       "4    10191  Movie                      How to Train Your Dragon   \n",
       "\n",
       "                      director  \\\n",
       "0                Mike Mitchell   \n",
       "1            Christopher Nolan   \n",
       "2                  David Yates   \n",
       "3   Byron Howard, Nathan Greno   \n",
       "4  Chris Sanders, Dean DeBlois   \n",
       "\n",
       "                                                cast  \\\n",
       "0  Mike Myers, Eddie Murphy, Cameron Diaz, Antoni...   \n",
       "1  Leonardo DiCaprio, Joseph Gordon-Levitt, Ken W...   \n",
       "2  Daniel Radcliffe, Emma Watson, Rupert Grint, T...   \n",
       "3  Mandy Moore, Zachary Levi, Donna Murphy, Ron P...   \n",
       "4  Jay Baruchel, Gerard Butler, Craig Ferguson, A...   \n",
       "\n",
       "                                    country  date_added  release_year  rating  \\\n",
       "0                  United States of America  2010-05-16          2010   6.380   \n",
       "1  United Kingdom, United States of America  2010-07-15          2010   8.369   \n",
       "2  United Kingdom, United States of America  2010-11-17          2010   7.744   \n",
       "3                  United States of America  2010-11-24          2010   7.600   \n",
       "4                  United States of America  2010-03-18          2010   7.800   \n",
       "\n",
       "  duration                                         genres language  \\\n",
       "0      NaN  Comedy, Adventure, Fantasy, Animation, Family       en   \n",
       "1      NaN             Action, Science Fiction, Adventure       en   \n",
       "2      NaN                             Adventure, Fantasy       en   \n",
       "3      NaN                   Animation, Family, Adventure       en   \n",
       "4      NaN          Fantasy, Adventure, Animation, Family       en   \n",
       "\n",
       "                                         description  popularity  vote_count  \\\n",
       "0  A bored and domesticated Shrek pacts with deal...     203.893        7449   \n",
       "1  Cobb, a skilled thief who commits corporate es...     156.242       37119   \n",
       "2  Harry, Ron and Hermione walk away from their l...     121.191       19327   \n",
       "3  Feisty teenager Rapunzel, who has long and mag...     111.762       11638   \n",
       "4  As the son of a Viking leader on the cusp of m...     110.044       13259   \n",
       "\n",
       "   vote_average       budget      revenue  \n",
       "0         6.380  165000000.0  752600867.0  \n",
       "1         8.369  160000000.0  839030630.0  \n",
       "2         7.744  250000000.0  954305868.0  \n",
       "3         7.600  260000000.0  592461732.0  \n",
       "4         7.800  165000000.0  494879471.0  "
      ]
     },
     "execution_count": 2,
     "metadata": {},
     "output_type": "execute_result"
    }
   ],
   "source": [
    "netflix_movies=pd.read_csv(\"/kaggle/input/netflix-movies-and-tv-irving/netflix_movies_detailed_up_to_2025.csv\")\n",
    "netflix_series=pd.read_csv(\"/kaggle/input/netflix-movies-and-tv-irving/netflix_tv_shows_detailed_up_to_2025.csv\")\n",
    "netflix_dataset = pd.concat([netflix_movies, netflix_series], ignore_index=True)\n",
    "netflix_dataset.head()"
   ]
  },
  {
   "cell_type": "code",
   "execution_count": 3,
   "metadata": {
    "execution": {
     "iopub.execute_input": "2025-07-17T22:45:34.721956Z",
     "iopub.status.busy": "2025-07-17T22:45:34.721678Z",
     "iopub.status.idle": "2025-07-17T22:45:34.768350Z",
     "shell.execute_reply": "2025-07-17T22:45:34.767221Z",
     "shell.execute_reply.started": "2025-07-17T22:45:34.721928Z"
    },
    "trusted": true
   },
   "outputs": [
    {
     "name": "stdout",
     "output_type": "stream",
     "text": [
      "<class 'pandas.core.frame.DataFrame'>\n",
      "RangeIndex: 32000 entries, 0 to 31999\n",
      "Data columns (total 18 columns):\n",
      " #   Column        Non-Null Count  Dtype  \n",
      "---  ------        --------------  -----  \n",
      " 0   show_id       32000 non-null  int64  \n",
      " 1   type          32000 non-null  object \n",
      " 2   title         32000 non-null  object \n",
      " 3   director      20903 non-null  object \n",
      " 4   cast          30639 non-null  object \n",
      " 5   country       29737 non-null  object \n",
      " 6   date_added    32000 non-null  object \n",
      " 7   release_year  32000 non-null  int64  \n",
      " 8   rating        32000 non-null  float64\n",
      " 9   duration      16000 non-null  object \n",
      " 10  genres        30919 non-null  object \n",
      " 11  language      32000 non-null  object \n",
      " 12  description   28662 non-null  object \n",
      " 13  popularity    32000 non-null  float64\n",
      " 14  vote_count    32000 non-null  int64  \n",
      " 15  vote_average  32000 non-null  float64\n",
      " 16  budget        16000 non-null  float64\n",
      " 17  revenue       16000 non-null  float64\n",
      "dtypes: float64(5), int64(3), object(10)\n",
      "memory usage: 4.4+ MB\n"
     ]
    }
   ],
   "source": [
    "netflix_dataset.info()"
   ]
  },
  {
   "cell_type": "code",
   "execution_count": 4,
   "metadata": {
    "execution": {
     "iopub.execute_input": "2025-07-17T22:45:34.769803Z",
     "iopub.status.busy": "2025-07-17T22:45:34.769537Z",
     "iopub.status.idle": "2025-07-17T22:45:34.892493Z",
     "shell.execute_reply": "2025-07-17T22:45:34.891083Z",
     "shell.execute_reply.started": "2025-07-17T22:45:34.769774Z"
    },
    "trusted": true
   },
   "outputs": [
    {
     "name": "stdout",
     "output_type": "stream",
     "text": [
      "              unique count\n",
      "show_id              31594\n",
      "type                     2\n",
      "title                30639\n",
      "director             13011\n",
      "cast                 30230\n",
      "country               1745\n",
      "date_added            5504\n",
      "release_year            16\n",
      "rating                2728\n",
      "duration                 1\n",
      "genres                3895\n",
      "language                83\n",
      "description          28636\n",
      "popularity           24159\n",
      "vote_count            2902\n",
      "vote_average          2728\n",
      "budget                 958\n",
      "revenue               5327\n"
     ]
    }
   ],
   "source": [
    "#Identify the unique values\n",
    "dict = {}\n",
    "for i in list(netflix_dataset.columns):\n",
    "    dict[i] = netflix_dataset[i].value_counts().shape[0]\n",
    "    \n",
    "print(pd.DataFrame(dict,index = [\"unique count\"]).transpose())"
   ]
  },
  {
   "cell_type": "code",
   "execution_count": 5,
   "metadata": {
    "execution": {
     "iopub.execute_input": "2025-07-17T22:45:34.894147Z",
     "iopub.status.busy": "2025-07-17T22:45:34.893887Z",
     "iopub.status.idle": "2025-07-17T22:45:34.924100Z",
     "shell.execute_reply": "2025-07-17T22:45:34.922762Z",
     "shell.execute_reply.started": "2025-07-17T22:45:34.894107Z"
    },
    "trusted": true
   },
   "outputs": [
    {
     "name": "stdout",
     "output_type": "stream",
     "text": [
      "Tabla de valores nulos:\n",
      "show_id             0\n",
      "type                0\n",
      "title               0\n",
      "director        11097\n",
      "cast             1361\n",
      "country          2263\n",
      "date_added          0\n",
      "release_year        0\n",
      "rating              0\n",
      "duration        16000\n",
      "genres           1081\n",
      "language            0\n",
      "description      3338\n",
      "popularity          0\n",
      "vote_count          0\n",
      "vote_average        0\n",
      "budget          16000\n",
      "revenue         16000\n",
      "dtype: int64\n"
     ]
    }
   ],
   "source": [
    "# Exploración de datos.\n",
    "print(\"Tabla de valores nulos:\")\n",
    "print(netflix_dataset.isnull().sum())"
   ]
  },
  {
   "cell_type": "markdown",
   "metadata": {},
   "source": [
    "show_id does represents the primary key of the datasets.\n",
    "There are only two types of Netflix content type, where as others are distributed in wide range will need futher analysis with graphs."
   ]
  },
  {
   "cell_type": "code",
   "execution_count": 6,
   "metadata": {
    "execution": {
     "iopub.execute_input": "2025-07-17T22:45:34.925654Z",
     "iopub.status.busy": "2025-07-17T22:45:34.925394Z",
     "iopub.status.idle": "2025-07-17T22:45:34.960326Z",
     "shell.execute_reply": "2025-07-17T22:45:34.959195Z",
     "shell.execute_reply.started": "2025-07-17T22:45:34.925625Z"
    },
    "trusted": true
   },
   "outputs": [
    {
     "name": "stdout",
     "output_type": "stream",
     "text": [
      "Table of missing values: \n",
      "show_id             0\n",
      "type                0\n",
      "title               0\n",
      "director        11097\n",
      "cast             1361\n",
      "country          2263\n",
      "date_added          0\n",
      "release_year        0\n",
      "rating              0\n",
      "duration        16000\n",
      "genres           1081\n",
      "language            0\n",
      "description      3338\n",
      "popularity          0\n",
      "vote_count          0\n",
      "vote_average        0\n",
      "budget          16000\n",
      "revenue         16000\n",
      "dtype: int64\n"
     ]
    }
   ],
   "source": [
    "# Missing values\n",
    "print('Table of missing values: ')\n",
    "print(netflix_dataset.isnull().sum())"
   ]
  },
  {
   "cell_type": "code",
   "execution_count": 7,
   "metadata": {
    "execution": {
     "iopub.execute_input": "2025-07-17T22:45:34.963686Z",
     "iopub.status.busy": "2025-07-17T22:45:34.963373Z",
     "iopub.status.idle": "2025-07-17T22:45:34.997212Z",
     "shell.execute_reply": "2025-07-17T22:45:34.996219Z",
     "shell.execute_reply.started": "2025-07-17T22:45:34.963653Z"
    },
    "trusted": true
   },
   "outputs": [
    {
     "data": {
      "text/plain": [
       "16000"
      ]
     },
     "execution_count": 7,
     "metadata": {},
     "output_type": "execute_result"
    }
   ],
   "source": [
    "## Numero de series\n",
    "netflix_dataset[netflix_dataset['type'] == 'TV Show'].shape[0]"
   ]
  },
  {
   "cell_type": "code",
   "execution_count": 8,
   "metadata": {
    "execution": {
     "iopub.execute_input": "2025-07-17T22:45:34.999088Z",
     "iopub.status.busy": "2025-07-17T22:45:34.998804Z",
     "iopub.status.idle": "2025-07-17T22:45:35.014730Z",
     "shell.execute_reply": "2025-07-17T22:45:35.013364Z",
     "shell.execute_reply.started": "2025-07-17T22:45:34.999056Z"
    },
    "trusted": true
   },
   "outputs": [
    {
     "data": {
      "text/plain": [
       "16000"
      ]
     },
     "execution_count": 8,
     "metadata": {},
     "output_type": "execute_result"
    }
   ],
   "source": [
    "## Películas en el dataset\n",
    "netflix_dataset[netflix_dataset['type'] == 'Movie'].shape[0]"
   ]
  },
  {
   "cell_type": "code",
   "execution_count": 9,
   "metadata": {
    "execution": {
     "iopub.execute_input": "2025-07-17T22:45:35.016679Z",
     "iopub.status.busy": "2025-07-17T22:45:35.016259Z",
     "iopub.status.idle": "2025-07-17T22:45:35.042647Z",
     "shell.execute_reply": "2025-07-17T22:45:35.041582Z",
     "shell.execute_reply.started": "2025-07-17T22:45:35.016632Z"
    },
    "trusted": true
   },
   "outputs": [
    {
     "data": {
      "text/plain": [
       "30639"
      ]
     },
     "execution_count": 9,
     "metadata": {},
     "output_type": "execute_result"
    }
   ],
   "source": [
    "## Titulos en el dataset\n",
    "netflix_dataset['title'].nunique()"
   ]
  },
  {
   "cell_type": "code",
   "execution_count": 10,
   "metadata": {
    "execution": {
     "iopub.execute_input": "2025-07-17T22:45:35.044234Z",
     "iopub.status.busy": "2025-07-17T22:45:35.043959Z",
     "iopub.status.idle": "2025-07-17T22:45:35.051749Z",
     "shell.execute_reply": "2025-07-17T22:45:35.050724Z",
     "shell.execute_reply.started": "2025-07-17T22:45:35.044206Z"
    },
    "trusted": true
   },
   "outputs": [
    {
     "name": "stdout",
     "output_type": "stream",
     "text": [
      "Index(['show_id', 'type', 'title', 'director', 'cast', 'country', 'date_added',\n",
      "       'release_year', 'rating', 'duration', 'genres', 'language',\n",
      "       'description', 'popularity', 'vote_count', 'vote_average', 'budget',\n",
      "       'revenue'],\n",
      "      dtype='object')\n"
     ]
    }
   ],
   "source": [
    "## Atributos clave del dataset \n",
    "print(netflix_dataset.columns)"
   ]
  },
  {
   "cell_type": "code",
   "execution_count": 11,
   "metadata": {
    "execution": {
     "iopub.execute_input": "2025-07-17T22:45:35.053817Z",
     "iopub.status.busy": "2025-07-17T22:45:35.053444Z",
     "iopub.status.idle": "2025-07-17T22:45:35.296727Z",
     "shell.execute_reply": "2025-07-17T22:45:35.295473Z",
     "shell.execute_reply.started": "2025-07-17T22:45:35.053776Z"
    },
    "trusted": true
   },
   "outputs": [
    {
     "data": {
      "image/png": "[encoded data removed]",
      "text/plain": [
       "<Figure size 576x360 with 1 Axes>"
      ]
     },
     "metadata": {
      "needs_background": "light"
     },
     "output_type": "display_data"
    }
   ],
   "source": [
    "## Gráfica de barras con etiquetas\n",
    "import matplotlib.pyplot as plt\n",
    "import seaborn as sns\n",
    "\n",
    "plt.figure(figsize=(8,5))\n",
    "sns.countplot(x='type', data=netflix_dataset, palette='Set2')\n",
    "plt.title('Conteo de películas y series en Netflix')\n",
    "plt.xlabel('Tipo de contenido')\n",
    "plt.ylabel('Cantidad')\n",
    "plt.bar_label(plt.gca().containers[0])\n",
    "plt.show()"
   ]
  },
  {
   "cell_type": "code",
   "execution_count": 12,
   "metadata": {
    "execution": {
     "iopub.execute_input": "2025-07-17T22:45:35.298973Z",
     "iopub.status.busy": "2025-07-17T22:45:35.298647Z",
     "iopub.status.idle": "2025-07-17T22:45:35.668378Z",
     "shell.execute_reply": "2025-07-17T22:45:35.667242Z",
     "shell.execute_reply.started": "2025-07-17T22:45:35.298942Z"
    },
    "trusted": true
   },
   "outputs": [
    {
     "data": {
      "image/png": "[encoded data removed]",
      "text/plain": [
       "<Figure size 864x432 with 2 Axes>"
      ]
     },
     "metadata": {
      "needs_background": "light"
     },
     "output_type": "display_data"
    }
   ],
   "source": [
    "## Mapa de calor de lanzamientos por año de series\n",
    "plt.figure(figsize=(12,6))\n",
    "heatmap_data = netflix_dataset[netflix_dataset['type'] == 'TV Show'] \\\n",
    "    .groupby(['release_year']).size().reset_index(name='count')\n",
    "heatmap_data = heatmap_data.pivot_table(index='release_year', values='count', aggfunc='sum')\n",
    "\n",
    "sns.heatmap(heatmap_data, annot=True, fmt='d', cmap='coolwarm', linewidths=1)\n",
    "plt.title('Lanzamientos de series por año')\n",
    "plt.xlabel('Conteo')\n",
    "plt.ylabel('Año')\n",
    "plt.show()"
   ]
  },
  {
   "cell_type": "code",
   "execution_count": 13,
   "metadata": {
    "execution": {
     "iopub.execute_input": "2025-07-17T22:45:35.670544Z",
     "iopub.status.busy": "2025-07-17T22:45:35.670107Z",
     "iopub.status.idle": "2025-07-17T22:45:35.691532Z",
     "shell.execute_reply": "2025-07-17T22:45:35.690214Z",
     "shell.execute_reply.started": "2025-07-17T22:45:35.670499Z"
    },
    "trusted": true
   },
   "outputs": [],
   "source": [
    "# Nuevo dataset\n",
    "rating_dataset = netflix_dataset[['title', 'vote_average', 'country']]\n",
    "rating_dataset = rating_dataset.dropna(subset=['vote_average'])  # Eliminar nulos\n",
    "rating_dataset = rating_dataset.sort_values(by='vote_average', ascending=False)"
   ]
  },
  {
   "cell_type": "code",
   "execution_count": 14,
   "metadata": {
    "execution": {
     "iopub.execute_input": "2025-07-17T22:45:35.693282Z",
     "iopub.status.busy": "2025-07-17T22:45:35.693014Z",
     "iopub.status.idle": "2025-07-17T22:45:35.699903Z",
     "shell.execute_reply": "2025-07-17T22:45:35.698581Z",
     "shell.execute_reply.started": "2025-07-17T22:45:35.693254Z"
    },
    "trusted": true
   },
   "outputs": [],
   "source": [
    "# 10 mejores\n",
    "top10_rated = rating_dataset.head(10)"
   ]
  },
  {
   "cell_type": "code",
   "execution_count": 15,
   "metadata": {
    "execution": {
     "iopub.execute_input": "2025-07-17T22:45:35.701750Z",
     "iopub.status.busy": "2025-07-17T22:45:35.701346Z",
     "iopub.status.idle": "2025-07-17T22:45:36.209844Z",
     "shell.execute_reply": "2025-07-17T22:45:36.208401Z",
     "shell.execute_reply.started": "2025-07-17T22:45:35.701678Z"
    },
    "trusted": true
   },
   "outputs": [
    {
     "data": {
      "image/png": "[encoded data removed]",
      "text/plain": [
       "<Figure size 576x576 with 1 Axes>"
      ]
     },
     "metadata": {},
     "output_type": "display_data"
    }
   ],
   "source": [
    "# Gráfica de pastel\n",
    "import matplotlib.pyplot as plt\n",
    "\n",
    "# Asegúrate de que dict no esté sobrescrito\n",
    "try:\n",
    "    del dict\n",
    "except:\n",
    "    pass\n",
    "\n",
    "# Preparar datos\n",
    "labels_outer = top10_rated['title']\n",
    "sizes_outer = top10_rated['vote_average']\n",
    "labels_inner = top10_rated['country'].fillna('Desconocido')\n",
    "\n",
    "# Crear figura\n",
    "fig, ax = plt.subplots(figsize=(8, 8))\n",
    "\n",
    "# Capa exterior: puntuaciones\n",
    "wedges_outer, texts_outer, autotexts_outer = ax.pie(\n",
    "    sizes_outer,\n",
    "    radius=1,\n",
    "    labels=labels_outer,\n",
    "    labeldistance=1.05,\n",
    "    autopct='%1.1f',\n",
    "    startangle=90,\n",
    "    pctdistance=0.85,\n",
    "    wedgeprops={\"width\": 0.3, \"edgecolor\": \"white\"},\n",
    "    textprops={\"color\": \"black\"}\n",
    ")\n",
    "\n",
    "# Capa interior: países\n",
    "wedges_inner, texts_inner = ax.pie(\n",
    "    [1] * len(labels_inner),\n",
    "    radius=0.7,\n",
    "    labels=labels_inner,\n",
    "    labeldistance=0.6,\n",
    "    startangle=90,\n",
    "    wedgeprops={\"width\": 0.3, \"edgecolor\": \"white\"},\n",
    "    textprops={\"color\": \"black\"}\n",
    ")\n",
    "\n",
    "ax.set(aspect=\"equal\", title='Top 10 mejor calificadas: puntuación y país')\n",
    "plt.tight_layout()\n",
    "plt.show()"
   ]
  },
  {
   "cell_type": "code",
   "execution_count": 16,
   "metadata": {
    "execution": {
     "iopub.execute_input": "2025-07-17T22:45:36.212459Z",
     "iopub.status.busy": "2025-07-17T22:45:36.212191Z",
     "iopub.status.idle": "2025-07-17T22:45:36.447983Z",
     "shell.execute_reply": "2025-07-17T22:45:36.446590Z",
     "shell.execute_reply.started": "2025-07-17T22:45:36.212432Z"
    },
    "trusted": true
   },
   "outputs": [
    {
     "data": {
      "image/png": "[encoded data removed]",
      "text/plain": [
       "<Figure size 720x360 with 1 Axes>"
      ]
     },
     "metadata": {
      "needs_background": "light"
     },
     "output_type": "display_data"
    }
   ],
   "source": [
    "# Gráficos totales\n",
    "movies = netflix_dataset[netflix_dataset['type'] == 'Movie']\n",
    "top_countries = movies['country'].value_counts().head(10)\n",
    "\n",
    "plt.figure(figsize=(10,5))\n",
    "sns.barplot(x=top_countries.values, y=top_countries.index, palette='cool')\n",
    "plt.title('Películas por país (Top 10)')\n",
    "plt.xlabel('Cantidad')\n",
    "plt.ylabel('País')\n",
    "plt.show()"
   ]
  },
  {
   "cell_type": "code",
   "execution_count": 17,
   "metadata": {
    "execution": {
     "iopub.execute_input": "2025-07-17T22:45:36.450592Z",
     "iopub.status.busy": "2025-07-17T22:45:36.450185Z",
     "iopub.status.idle": "2025-07-17T22:45:36.472990Z",
     "shell.execute_reply": "2025-07-17T22:45:36.471585Z",
     "shell.execute_reply.started": "2025-07-17T22:45:36.450546Z"
    },
    "trusted": true
   },
   "outputs": [],
   "source": [
    "rating_dataset = netflix_dataset[['title', 'vote_average', 'country']].dropna(subset=['vote_average'])\n",
    "rating_dataset = rating_dataset.sort_values(by='vote_average', ascending=False)"
   ]
  },
  {
   "cell_type": "code",
   "execution_count": 18,
   "metadata": {
    "execution": {
     "iopub.execute_input": "2025-07-17T22:45:36.475463Z",
     "iopub.status.busy": "2025-07-17T22:45:36.475160Z",
     "iopub.status.idle": "2025-07-17T22:45:36.487186Z",
     "shell.execute_reply": "2025-07-17T22:45:36.485818Z",
     "shell.execute_reply.started": "2025-07-17T22:45:36.475432Z"
    },
    "trusted": true
   },
   "outputs": [
    {
     "name": "stdout",
     "output_type": "stream",
     "text": [
      "United States of America                    7760\n",
      "Japan                                       2587\n",
      "China                                       2004\n",
      "South Korea                                 1999\n",
      "United Kingdom                              1106\n",
      "France                                       855\n",
      "India                                        771\n",
      "Canada                                       738\n",
      "Germany                                      554\n",
      "United Kingdom, United States of America     513\n",
      "Philippines                                  510\n",
      "Name: country, dtype: int64\n"
     ]
    }
   ],
   "source": [
    "country_counts = netflix_dataset['country'].value_counts().head(11)\n",
    "print(country_counts)"
   ]
  },
  {
   "cell_type": "code",
   "execution_count": 19,
   "metadata": {
    "execution": {
     "iopub.execute_input": "2025-07-17T22:45:36.488967Z",
     "iopub.status.busy": "2025-07-17T22:45:36.488626Z",
     "iopub.status.idle": "2025-07-17T22:45:36.985253Z",
     "shell.execute_reply": "2025-07-17T22:45:36.984089Z",
     "shell.execute_reply.started": "2025-07-17T22:45:36.488937Z"
    },
    "trusted": true
   },
   "outputs": [
    {
     "data": {
      "image/png": "[encoded data removed]",
      "text/plain": [
       "<Figure size 864x360 with 1 Axes>"
      ]
     },
     "metadata": {
      "needs_background": "light"
     },
     "output_type": "display_data"
    }
   ],
   "source": [
    "plt.figure(figsize=(12,5))\n",
    "sns.histplot(netflix_dataset['release_year'], bins=30, kde=False, color='mediumseagreen')\n",
    "plt.title('Lanzamientos de contenido por año')\n",
    "plt.xlabel('Año de lanzamiento')\n",
    "plt.ylabel('Cantidad')\n",
    "plt.grid(True)\n",
    "plt.tight_layout()\n",
    "plt.show()"
   ]
  },
  {
   "cell_type": "code",
   "execution_count": 20,
   "metadata": {
    "execution": {
     "iopub.execute_input": "2025-07-17T22:45:36.987241Z",
     "iopub.status.busy": "2025-07-17T22:45:36.986991Z",
     "iopub.status.idle": "2025-07-17T22:45:37.035029Z",
     "shell.execute_reply": "2025-07-17T22:45:37.033848Z",
     "shell.execute_reply.started": "2025-07-17T22:45:36.987214Z"
    },
    "trusted": true
   },
   "outputs": [],
   "source": [
    "tv_shows = netflix_dataset[netflix_dataset['type'] == 'TV Show'].copy()\n",
    "\n",
    "# Extraer número de temporadas\n",
    "tv_shows['seasons'] = tv_shows['duration'].str.extract(r'(\\d+)').astype(float)\n",
    "\n",
    "# Agrupar por título y temporadas\n",
    "top_seasons = tv_shows.sort_values(by='seasons', ascending=False).head(20)"
   ]
  },
  {
   "cell_type": "code",
   "execution_count": 21,
   "metadata": {
    "execution": {
     "iopub.execute_input": "2025-07-17T22:45:37.036391Z",
     "iopub.status.busy": "2025-07-17T22:45:37.036149Z",
     "iopub.status.idle": "2025-07-17T22:45:37.419013Z",
     "shell.execute_reply": "2025-07-17T22:45:37.417892Z",
     "shell.execute_reply.started": "2025-07-17T22:45:37.036362Z"
    },
    "trusted": true
   },
   "outputs": [
    {
     "data": {
      "image/png": "[encoded data removed]",
      "text/plain": [
       "<Figure size 864x432 with 1 Axes>"
      ]
     },
     "metadata": {
      "needs_background": "light"
     },
     "output_type": "display_data"
    }
   ],
   "source": [
    "plt.figure(figsize=(12,6))\n",
    "sns.barplot(y=top_seasons['title'], x=top_seasons['seasons'], palette='cubehelix')\n",
    "plt.title('Top 20 Series con más Temporadas')\n",
    "plt.xlabel('Número de Temporadas')\n",
    "plt.ylabel('Título de la Serie')\n",
    "plt.tight_layout()\n",
    "plt.show()"
   ]
  },
  {
   "cell_type": "code",
   "execution_count": 22,
   "metadata": {
    "execution": {
     "iopub.execute_input": "2025-07-17T22:45:37.422616Z",
     "iopub.status.busy": "2025-07-17T22:45:37.422308Z",
     "iopub.status.idle": "2025-07-17T22:45:37.602630Z",
     "shell.execute_reply": "2025-07-17T22:45:37.601269Z",
     "shell.execute_reply.started": "2025-07-17T22:45:37.422585Z"
    },
    "trusted": true
   },
   "outputs": [],
   "source": [
    "from sklearn.feature_extraction.text import TfidfVectorizer"
   ]
  },
  {
   "cell_type": "code",
   "execution_count": 23,
   "metadata": {
    "execution": {
     "iopub.execute_input": "2025-07-17T22:45:37.605317Z",
     "iopub.status.busy": "2025-07-17T22:45:37.604455Z",
     "iopub.status.idle": "2025-07-17T22:45:39.154669Z",
     "shell.execute_reply": "2025-07-17T22:45:39.153345Z",
     "shell.execute_reply.started": "2025-07-17T22:45:37.605267Z"
    },
    "trusted": true
   },
   "outputs": [
    {
     "name": "stdout",
     "output_type": "stream",
     "text": [
      "(32000, 54565)\n"
     ]
    }
   ],
   "source": [
    "# Llenar nulos\n",
    "netflix_dataset['description'] = netflix_dataset['description'].fillna('')\n",
    "\n",
    "# Inicializar y aplicar TF-IDF\n",
    "tfidf = TfidfVectorizer(stop_words='english')\n",
    "tfidf_matrix = tfidf.fit_transform(netflix_dataset['description'])\n",
    "\n",
    "# Mostrar forma del resultado\n",
    "print(tfidf_matrix.shape)  # filas = contenidos, columnas = palabras únicas"
   ]
  },
  {
   "cell_type": "code",
   "execution_count": 26,
   "metadata": {
    "execution": {
     "iopub.execute_input": "2025-07-17T22:53:37.030824Z",
     "iopub.status.busy": "2025-07-17T22:53:37.030325Z",
     "iopub.status.idle": "2025-07-17T22:53:57.411598Z",
     "shell.execute_reply": "2025-07-17T22:53:57.410586Z",
     "shell.execute_reply.started": "2025-07-17T22:53:37.030788Z"
    },
    "trusted": true
   },
   "outputs": [],
   "source": [
    "from sklearn.metrics.pairwise import linear_kernel\n",
    "\n",
    "# Calcular similitud coseno\n",
    "cosine_sim = linear_kernel(tfidf_matrix, tfidf_matrix)\n",
    "\n",
    "# Indices por título\n",
    "indices = pd.Series(netflix_dataset.index, index=netflix_dataset['title']).drop_duplicates()\n",
    "\n",
    "# Función de recomendación\n",
    "def recommend(title, cosine_sim=cosine_sim):\n",
    "    idx = indices[title]\n",
    "    sim_scores = list(enumerate(cosine_sim[idx]))\n",
    "    sim_scores = sorted(sim_scores, key=lambda x: x[1], reverse=True)\n",
    "    sim_scores = sim_scores[1:11]\n",
    "    movie_indices = [i[0] for i in sim_scores]\n",
    "    return netflix_dataset['title'].iloc[movie_indices]\n"
   ]
  }
 ],
 "metadata": {
  "kaggle": {
   "accelerator": "none",
   "dataSources": [
    {
     "datasetId": 1615638,
     "sourceId": 2656713,
     "sourceType": "datasetVersion"
    },
    {
     "datasetId": 7834788,
     "sourceId": 12421869,
     "sourceType": "datasetVersion"
    }
   ],
   "dockerImageVersionId": 30123,
   "isGpuEnabled": false,
   "isInternetEnabled": false,
   "language": "python",
   "sourceType": "notebook"
  },
  "kernelspec": {
   "display_name": "Python 3",
   "language": "python",
   "name": "python3"
  },
  "language_info": {
   "codemirror_mode": {
    "name": "ipython",
    "version": 3
   },
   "file_extension": ".py",
   "mimetype": "text/x-python",
   "name": "python",
   "nbconvert_exporter": "python",
   "pygments_lexer": "ipython3",
   "version": "3.7.10"
  }
 },
 "nbformat": 4,
 "nbformat_minor": 4
}
